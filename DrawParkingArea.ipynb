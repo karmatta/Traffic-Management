{
 "cells": [
  {
   "cell_type": "code",
   "execution_count": 73,
   "metadata": {},
   "outputs": [],
   "source": [
    "import cv2\n",
    "import numpy as np\n",
    "import time\n",
    "import pickle\n",
    "\n",
    "drawing = False # true if mouse is pressed\n",
    "ix,iy = -1,-1\n",
    "p = 2\n",
    "ct = 1\n",
    "parking_coordinates = []\n",
    "pts = None\n",
    "vidID = 'Day2.mp4'\n",
    "\n",
    "# mouse callback function\n",
    "def draw_points(event,x,y,flags,param):\n",
    "    global ix,iy, drawing\n",
    "    global pts\n",
    "\n",
    "    if event == cv2.EVENT_LBUTTONDOWN:\n",
    "        drawing = True\n",
    "        ix,iy = x,y\n",
    "        parking_coordinates.append([x,y])\n",
    "        if(len(parking_coordinates) ==4):\n",
    "            #global pts\n",
    "            pts = np.array(parking_coordinates, dtype = np.int32)\n",
    "            pts = pts.reshape((-1,1,2))\n",
    "            mapping = {vidID:pts}\n",
    "            print(mapping)\n",
    "            mapping_file = open('mapping_file.pkl', 'wb')\n",
    "            pickle.dump(mapping, mapping_file)"
   ]
  },
  {
   "cell_type": "code",
   "execution_count": 74,
   "metadata": {
    "scrolled": false
   },
   "outputs": [
    {
     "name": "stdout",
     "output_type": "stream",
     "text": [
      "{'Day2.mp4': array([[[1285,  680]],\n",
      "\n",
      "       [[ 709,  567]],\n",
      "\n",
      "       [[1409,  196]],\n",
      "\n",
      "       [[1704,  258]]], dtype=int32)}\n"
     ]
    }
   ],
   "source": [
    "vidcap = cv2.VideoCapture('Day2.mp4')\n",
    "success,frame = vidcap.read()\n",
    "cv2.namedWindow('image')\n",
    "\n",
    "while(success):\n",
    "    success, frame = vidcap.read()\n",
    "    if(frame is not None):\n",
    "        height, width, layers = frame.shape\n",
    "        new_h = int(height/2)\n",
    "        new_w = int(width/2)\n",
    "        resize = cv2.resize(frame, (new_w, new_h)) \n",
    "        cv2.setMouseCallback('image',draw_points)\n",
    "        cv2.polylines(frame, [pts], True,(0,0,255), thickness= 5)\n",
    "        cv2.imshow('image',frame)\n",
    "        \n",
    "        if(pts is not None):\n",
    "            if(len(pts) == 4):\n",
    "                time.sleep(2)\n",
    "                break\n",
    "        \n",
    "        \n",
    "    else:\n",
    "        vidcap = cv2.VideoCapture(vidID)\n",
    "        success,frame = vidcap.read()\n",
    "        continue\n",
    "        \n",
    "#     i=0\n",
    "#     #draw the polygon\n",
    "#     while i<parking_coordinates.__len__():\n",
    "#         frame[int(0.95*parking_coordinates[i][0]):int(1.05*parking_coordinates[i][0]),int(0.95*parking_coordinates[i][1]):int(1.05*parking_coordinates[i][1])]=(0,0,255)\n",
    "#         i+=1\n",
    "    \n",
    "    k = cv2.waitKey(1) & 0xFF\n",
    "    if k == 27:\n",
    "        break\n",
    "        \n",
    "vidcap.release()\n",
    "cv2.destroyAllWindows()"
   ]
  },
  {
   "cell_type": "markdown",
   "metadata": {},
   "source": [
    "# Using PIL"
   ]
  },
  {
   "cell_type": "code",
   "execution_count": 75,
   "metadata": {},
   "outputs": [],
   "source": [
    "from PIL import Image\n",
    "from PIL import ImageDraw \n",
    "from moviepy.editor import VideoFileClip\n",
    "\n",
    "def draw_parking_area(image_np):\n",
    "    \n",
    "    pkl_file = open(parking_map_file, 'rb')\n",
    "    mapping_file = pickle.load(pkl_file)\n",
    "    pkl_file.close()\n",
    "    global mapping\n",
    "    mapping = list(mapping_file.values())[0]\n",
    "    mapping = mapping.tolist()\n",
    "    mapping = list(map(lambda x: tuple(x[0]), mapping))\n",
    "    \n",
    "    image_pil = Image.fromarray(np.uint8(image_np)).convert('RGB')\n",
    "    draw = ImageDraw.Draw(image_pil)\n",
    "    mapping.append(mapping[0]) \n",
    "    #print(mapping)\n",
    "    \n",
    "    draw.line(mapping, fill=\"red\", width=9)\n",
    "    for point in mapping:\n",
    "        draw.ellipse((point[0] - 4, point[1] - 4, point[0]  + 4, point[1] + 4), fill=\"red\")\n",
    "    \n",
    "        \n",
    "    #draw.polygon(mapping, fill=None, outline=128, thickness = 100)\n",
    "    np.copyto(image_np, np.array(image_pil))\n",
    "    \n",
    "    return image_np\n",
    "    "
   ]
  },
  {
   "cell_type": "code",
   "execution_count": 76,
   "metadata": {},
   "outputs": [],
   "source": [
    "def process_image(image):\n",
    "    # NOTE: The output you return should be a color image (3 channel) for processing video below\n",
    "    # you should return the final output (image with lines are drawn on lanes\n",
    "    image_process = draw_parking_area(image)\n",
    "    return image_process"
   ]
  },
  {
   "cell_type": "code",
   "execution_count": 77,
   "metadata": {
    "scrolled": false
   },
   "outputs": [
    {
     "name": "stdout",
     "output_type": "stream",
     "text": [
      "[MoviePy] >>>> Building video testVideo_out2.mp4\n",
      "[MoviePy] Writing video testVideo_out2.mp4\n"
     ]
    },
    {
     "name": "stderr",
     "output_type": "stream",
     "text": [
      " 99%|█████████▉| 125/126 [00:05<00:00, 24.93it/s]"
     ]
    },
    {
     "name": "stdout",
     "output_type": "stream",
     "text": [
      "[MoviePy] Done.\n",
      "[MoviePy] >>>> Video ready: testVideo_out2.mp4 \n",
      "\n",
      "CPU times: user 5.98 s, sys: 1.65 s, total: 7.63 s\n",
      "Wall time: 5.09 s\n",
      "[(1285, 680), (709, 567), (1409, 196), (1704, 258), (1285, 680)]\n"
     ]
    },
    {
     "name": "stderr",
     "output_type": "stream",
     "text": [
      "\n"
     ]
    }
   ],
   "source": [
    "white_output = 'testVideo_out2.mp4'\n",
    "vidFile = \"Day2.mp4\"\n",
    "parking_map_file = 'mapping_file.pkl'\n",
    "clip1 = VideoFileClip(vidFile).subclip(0, 5)\n",
    "white_clip = clip1.fl_image(process_image) #NOTE: this function expects color images!!s\n",
    "%time white_clip.write_videofile(white_output, audio=False, codec='mpeg4')\n",
    "print(mapping)"
   ]
  },
  {
   "cell_type": "code",
   "execution_count": null,
   "metadata": {},
   "outputs": [],
   "source": []
  }
 ],
 "metadata": {
  "kernelspec": {
   "display_name": "Python 3",
   "language": "python",
   "name": "python3"
  },
  "language_info": {
   "codemirror_mode": {
    "name": "ipython",
    "version": 3
   },
   "file_extension": ".py",
   "mimetype": "text/x-python",
   "name": "python",
   "nbconvert_exporter": "python",
   "pygments_lexer": "ipython3",
   "version": "3.5.2"
  }
 },
 "nbformat": 4,
 "nbformat_minor": 2
}
